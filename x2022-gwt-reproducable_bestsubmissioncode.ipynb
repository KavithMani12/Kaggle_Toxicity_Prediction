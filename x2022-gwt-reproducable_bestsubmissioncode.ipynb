{
 "cells": [
  {
   "cell_type": "code",
   "execution_count": 1,
   "id": "aba649cb",
   "metadata": {
    "_cell_guid": "b1076dfc-b9ad-4769-8c92-a6c4dae69d19",
    "_uuid": "8f2839f25d086af736a60e9eeb907d3b93b6e0e5",
    "execution": {
     "iopub.execute_input": "2023-04-08T00:21:32.410351Z",
     "iopub.status.busy": "2023-04-08T00:21:32.409948Z",
     "iopub.status.idle": "2023-04-08T00:21:35.401494Z",
     "shell.execute_reply": "2023-04-08T00:21:35.400062Z"
    },
    "papermill": {
     "duration": 3.001919,
     "end_time": "2023-04-08T00:21:35.404620",
     "exception": false,
     "start_time": "2023-04-08T00:21:32.402701",
     "status": "completed"
    },
    "tags": []
   },
   "outputs": [
    {
     "data": {
      "text/html": [
       "<style type='text/css'>\n",
       ".datatable table.frame { margin-bottom: 0; }\n",
       ".datatable table.frame thead { border-bottom: none; }\n",
       ".datatable table.frame tr.coltypes td {  color: #FFFFFF;  line-height: 6px;  padding: 0 0.5em;}\n",
       ".datatable .bool    { background: #DDDD99; }\n",
       ".datatable .object  { background: #565656; }\n",
       ".datatable .int     { background: #5D9E5D; }\n",
       ".datatable .float   { background: #4040CC; }\n",
       ".datatable .str     { background: #CC4040; }\n",
       ".datatable .time    { background: #40CC40; }\n",
       ".datatable .row_index {  background: var(--jp-border-color3);  border-right: 1px solid var(--jp-border-color0);  color: var(--jp-ui-font-color3);  font-size: 9px;}\n",
       ".datatable .frame tbody td { text-align: left; }\n",
       ".datatable .frame tr.coltypes .row_index {  background: var(--jp-border-color0);}\n",
       ".datatable th:nth-child(2) { padding-left: 12px; }\n",
       ".datatable .hellipsis {  color: var(--jp-cell-editor-border-color);}\n",
       ".datatable .vellipsis {  background: var(--jp-layout-color0);  color: var(--jp-cell-editor-border-color);}\n",
       ".datatable .na {  color: var(--jp-cell-editor-border-color);  font-size: 80%;}\n",
       ".datatable .sp {  opacity: 0.25;}\n",
       ".datatable .footer { font-size: 9px; }\n",
       ".datatable .frame_dimensions {  background: var(--jp-border-color3);  border-top: 1px solid var(--jp-border-color0);  color: var(--jp-ui-font-color3);  display: inline-block;  opacity: 0.6;  padding: 1px 10px 1px 5px;}\n",
       "</style>\n"
      ],
      "text/plain": [
       "<IPython.core.display.HTML object>"
      ]
     },
     "metadata": {},
     "output_type": "display_data"
    }
   ],
   "source": [
    "import numpy as np\n",
    "import pandas as pd\n",
    "from catboost import CatBoostClassifier\n",
    "import lightgbm as lgb\n",
    "import xgboost as xgb \n",
    "\n",
    "from sklearn.ensemble import GradientBoostingClassifier\n",
    "from sklearn.ensemble import VotingClassifier"
   ]
  },
  {
   "cell_type": "code",
   "execution_count": 2,
   "id": "cf7ddac5",
   "metadata": {
    "execution": {
     "iopub.execute_input": "2023-04-08T00:21:35.415003Z",
     "iopub.status.busy": "2023-04-08T00:21:35.414519Z",
     "iopub.status.idle": "2023-04-08T00:21:39.909699Z",
     "shell.execute_reply": "2023-04-08T00:21:39.908397Z"
    },
    "papermill": {
     "duration": 4.503817,
     "end_time": "2023-04-08T00:21:39.912860",
     "exception": false,
     "start_time": "2023-04-08T00:21:35.409043",
     "status": "completed"
    },
    "tags": []
   },
   "outputs": [],
   "source": [
    "data_train = pd.read_csv(\"/kaggle/input/toxic-data-x2022gwt/train_data.csv\")\n",
    "data_test = pd.read_csv(\"/kaggle/input/toxic-data-x2022gwt/test_data.csv\")"
   ]
  },
  {
   "cell_type": "code",
   "execution_count": 3,
   "id": "fd81f492",
   "metadata": {
    "execution": {
     "iopub.execute_input": "2023-04-08T00:21:39.923944Z",
     "iopub.status.busy": "2023-04-08T00:21:39.922713Z",
     "iopub.status.idle": "2023-04-08T00:21:39.993278Z",
     "shell.execute_reply": "2023-04-08T00:21:39.991962Z"
    },
    "papermill": {
     "duration": 0.079194,
     "end_time": "2023-04-08T00:21:39.996435",
     "exception": false,
     "start_time": "2023-04-08T00:21:39.917241",
     "status": "completed"
    },
    "tags": []
   },
   "outputs": [
    {
     "data": {
      "text/html": [
       "<div>\n",
       "<style scoped>\n",
       "    .dataframe tbody tr th:only-of-type {\n",
       "        vertical-align: middle;\n",
       "    }\n",
       "\n",
       "    .dataframe tbody tr th {\n",
       "        vertical-align: top;\n",
       "    }\n",
       "\n",
       "    .dataframe thead th {\n",
       "        text-align: right;\n",
       "    }\n",
       "</style>\n",
       "<table border=\"1\" class=\"dataframe\">\n",
       "  <thead>\n",
       "    <tr style=\"text-align: right;\">\n",
       "      <th></th>\n",
       "      <th>MaxEStateIndex</th>\n",
       "      <th>MinEStateIndex</th>\n",
       "      <th>MaxAbsEStateIndex</th>\n",
       "      <th>MinAbsEStateIndex</th>\n",
       "      <th>qed</th>\n",
       "      <th>MolWt</th>\n",
       "      <th>HeavyAtomMolWt</th>\n",
       "      <th>ExactMolWt</th>\n",
       "      <th>NumValenceElectrons</th>\n",
       "      <th>NumRadicalElectrons</th>\n",
       "      <th>...</th>\n",
       "      <th>fr_sulfone</th>\n",
       "      <th>fr_term_acetylene</th>\n",
       "      <th>fr_tetrazole</th>\n",
       "      <th>fr_thiazole</th>\n",
       "      <th>fr_thiocyan</th>\n",
       "      <th>fr_thiophene</th>\n",
       "      <th>fr_unbrch_alkane</th>\n",
       "      <th>fr_urea</th>\n",
       "      <th>label</th>\n",
       "      <th>Assay_values</th>\n",
       "    </tr>\n",
       "  </thead>\n",
       "  <tbody>\n",
       "    <tr>\n",
       "      <th>0</th>\n",
       "      <td>9.316200</td>\n",
       "      <td>-1.533785</td>\n",
       "      <td>9.316200</td>\n",
       "      <td>0.150485</td>\n",
       "      <td>0.794714</td>\n",
       "      <td>317.599</td>\n",
       "      <td>306.511</td>\n",
       "      <td>315.982463</td>\n",
       "      <td>100.0</td>\n",
       "      <td>0.0</td>\n",
       "      <td>...</td>\n",
       "      <td>0.0</td>\n",
       "      <td>0.0</td>\n",
       "      <td>0.0</td>\n",
       "      <td>0.0</td>\n",
       "      <td>0.0</td>\n",
       "      <td>0.0</td>\n",
       "      <td>0.0</td>\n",
       "      <td>0.0</td>\n",
       "      <td>2</td>\n",
       "      <td>1644</td>\n",
       "    </tr>\n",
       "    <tr>\n",
       "      <th>1</th>\n",
       "      <td>10.532611</td>\n",
       "      <td>0.333788</td>\n",
       "      <td>10.532611</td>\n",
       "      <td>0.333788</td>\n",
       "      <td>0.516641</td>\n",
       "      <td>156.269</td>\n",
       "      <td>136.109</td>\n",
       "      <td>156.151415</td>\n",
       "      <td>66.0</td>\n",
       "      <td>0.0</td>\n",
       "      <td>...</td>\n",
       "      <td>0.0</td>\n",
       "      <td>0.0</td>\n",
       "      <td>0.0</td>\n",
       "      <td>0.0</td>\n",
       "      <td>0.0</td>\n",
       "      <td>0.0</td>\n",
       "      <td>4.0</td>\n",
       "      <td>0.0</td>\n",
       "      <td>2</td>\n",
       "      <td>2451</td>\n",
       "    </tr>\n",
       "    <tr>\n",
       "      <th>2</th>\n",
       "      <td>2.433032</td>\n",
       "      <td>0.000000</td>\n",
       "      <td>2.433032</td>\n",
       "      <td>0.000000</td>\n",
       "      <td>0.251327</td>\n",
       "      <td>362.086</td>\n",
       "      <td>313.702</td>\n",
       "      <td>361.347528</td>\n",
       "      <td>148.0</td>\n",
       "      <td>0.0</td>\n",
       "      <td>...</td>\n",
       "      <td>0.0</td>\n",
       "      <td>0.0</td>\n",
       "      <td>0.0</td>\n",
       "      <td>0.0</td>\n",
       "      <td>0.0</td>\n",
       "      <td>0.0</td>\n",
       "      <td>12.0</td>\n",
       "      <td>0.0</td>\n",
       "      <td>2</td>\n",
       "      <td>1384</td>\n",
       "    </tr>\n",
       "    <tr>\n",
       "      <th>3</th>\n",
       "      <td>10.355080</td>\n",
       "      <td>-0.613825</td>\n",
       "      <td>10.355080</td>\n",
       "      <td>0.282361</td>\n",
       "      <td>0.487998</td>\n",
       "      <td>255.665</td>\n",
       "      <td>245.585</td>\n",
       "      <td>255.052302</td>\n",
       "      <td>90.0</td>\n",
       "      <td>0.0</td>\n",
       "      <td>...</td>\n",
       "      <td>0.0</td>\n",
       "      <td>0.0</td>\n",
       "      <td>0.0</td>\n",
       "      <td>0.0</td>\n",
       "      <td>0.0</td>\n",
       "      <td>0.0</td>\n",
       "      <td>0.0</td>\n",
       "      <td>0.0</td>\n",
       "      <td>2</td>\n",
       "      <td>16</td>\n",
       "    </tr>\n",
       "    <tr>\n",
       "      <th>4</th>\n",
       "      <td>0.000000</td>\n",
       "      <td>0.000000</td>\n",
       "      <td>0.000000</td>\n",
       "      <td>0.000000</td>\n",
       "      <td>0.237972</td>\n",
       "      <td>149.894</td>\n",
       "      <td>149.894</td>\n",
       "      <td>149.894242</td>\n",
       "      <td>8.0</td>\n",
       "      <td>0.0</td>\n",
       "      <td>...</td>\n",
       "      <td>0.0</td>\n",
       "      <td>0.0</td>\n",
       "      <td>0.0</td>\n",
       "      <td>0.0</td>\n",
       "      <td>0.0</td>\n",
       "      <td>0.0</td>\n",
       "      <td>0.0</td>\n",
       "      <td>0.0</td>\n",
       "      <td>2</td>\n",
       "      <td>1856</td>\n",
       "    </tr>\n",
       "    <tr>\n",
       "      <th>...</th>\n",
       "      <td>...</td>\n",
       "      <td>...</td>\n",
       "      <td>...</td>\n",
       "      <td>...</td>\n",
       "      <td>...</td>\n",
       "      <td>...</td>\n",
       "      <td>...</td>\n",
       "      <td>...</td>\n",
       "      <td>...</td>\n",
       "      <td>...</td>\n",
       "      <td>...</td>\n",
       "      <td>...</td>\n",
       "      <td>...</td>\n",
       "      <td>...</td>\n",
       "      <td>...</td>\n",
       "      <td>...</td>\n",
       "      <td>...</td>\n",
       "      <td>...</td>\n",
       "      <td>...</td>\n",
       "      <td>...</td>\n",
       "      <td>...</td>\n",
       "    </tr>\n",
       "    <tr>\n",
       "      <th>75378</th>\n",
       "      <td>11.460021</td>\n",
       "      <td>-3.868472</td>\n",
       "      <td>11.460021</td>\n",
       "      <td>0.053611</td>\n",
       "      <td>0.712426</td>\n",
       "      <td>230.245</td>\n",
       "      <td>220.165</td>\n",
       "      <td>230.036128</td>\n",
       "      <td>82.0</td>\n",
       "      <td>0.0</td>\n",
       "      <td>...</td>\n",
       "      <td>0.0</td>\n",
       "      <td>0.0</td>\n",
       "      <td>0.0</td>\n",
       "      <td>0.0</td>\n",
       "      <td>0.0</td>\n",
       "      <td>0.0</td>\n",
       "      <td>0.0</td>\n",
       "      <td>0.0</td>\n",
       "      <td>2</td>\n",
       "      <td>33</td>\n",
       "    </tr>\n",
       "    <tr>\n",
       "      <th>75379</th>\n",
       "      <td>5.928972</td>\n",
       "      <td>-2.841623</td>\n",
       "      <td>5.928972</td>\n",
       "      <td>0.082346</td>\n",
       "      <td>0.720533</td>\n",
       "      <td>313.747</td>\n",
       "      <td>296.611</td>\n",
       "      <td>313.041677</td>\n",
       "      <td>104.0</td>\n",
       "      <td>0.0</td>\n",
       "      <td>...</td>\n",
       "      <td>0.0</td>\n",
       "      <td>0.0</td>\n",
       "      <td>0.0</td>\n",
       "      <td>0.0</td>\n",
       "      <td>0.0</td>\n",
       "      <td>0.0</td>\n",
       "      <td>0.0</td>\n",
       "      <td>0.0</td>\n",
       "      <td>1</td>\n",
       "      <td>1632</td>\n",
       "    </tr>\n",
       "    <tr>\n",
       "      <th>75380</th>\n",
       "      <td>4.975926</td>\n",
       "      <td>0.848333</td>\n",
       "      <td>4.975926</td>\n",
       "      <td>0.848333</td>\n",
       "      <td>0.596343</td>\n",
       "      <td>167.258</td>\n",
       "      <td>162.218</td>\n",
       "      <td>166.986341</td>\n",
       "      <td>50.0</td>\n",
       "      <td>0.0</td>\n",
       "      <td>...</td>\n",
       "      <td>0.0</td>\n",
       "      <td>0.0</td>\n",
       "      <td>0.0</td>\n",
       "      <td>1.0</td>\n",
       "      <td>0.0</td>\n",
       "      <td>0.0</td>\n",
       "      <td>0.0</td>\n",
       "      <td>0.0</td>\n",
       "      <td>1</td>\n",
       "      <td>1373</td>\n",
       "    </tr>\n",
       "    <tr>\n",
       "      <th>75381</th>\n",
       "      <td>10.241948</td>\n",
       "      <td>0.324028</td>\n",
       "      <td>10.241948</td>\n",
       "      <td>0.324028</td>\n",
       "      <td>0.519485</td>\n",
       "      <td>128.215</td>\n",
       "      <td>112.087</td>\n",
       "      <td>128.120115</td>\n",
       "      <td>54.0</td>\n",
       "      <td>0.0</td>\n",
       "      <td>...</td>\n",
       "      <td>0.0</td>\n",
       "      <td>0.0</td>\n",
       "      <td>0.0</td>\n",
       "      <td>0.0</td>\n",
       "      <td>0.0</td>\n",
       "      <td>0.0</td>\n",
       "      <td>0.0</td>\n",
       "      <td>0.0</td>\n",
       "      <td>2</td>\n",
       "      <td>2</td>\n",
       "    </tr>\n",
       "    <tr>\n",
       "      <th>75382</th>\n",
       "      <td>12.552405</td>\n",
       "      <td>-0.188577</td>\n",
       "      <td>12.552405</td>\n",
       "      <td>0.048913</td>\n",
       "      <td>0.165457</td>\n",
       "      <td>636.962</td>\n",
       "      <td>572.450</td>\n",
       "      <td>636.486609</td>\n",
       "      <td>258.0</td>\n",
       "      <td>0.0</td>\n",
       "      <td>...</td>\n",
       "      <td>0.0</td>\n",
       "      <td>0.0</td>\n",
       "      <td>0.0</td>\n",
       "      <td>0.0</td>\n",
       "      <td>0.0</td>\n",
       "      <td>0.0</td>\n",
       "      <td>5.0</td>\n",
       "      <td>0.0</td>\n",
       "      <td>1</td>\n",
       "      <td>2</td>\n",
       "    </tr>\n",
       "  </tbody>\n",
       "</table>\n",
       "<p>75383 rows × 210 columns</p>\n",
       "</div>"
      ],
      "text/plain": [
       "       MaxEStateIndex  MinEStateIndex  MaxAbsEStateIndex  MinAbsEStateIndex  \\\n",
       "0            9.316200       -1.533785           9.316200           0.150485   \n",
       "1           10.532611        0.333788          10.532611           0.333788   \n",
       "2            2.433032        0.000000           2.433032           0.000000   \n",
       "3           10.355080       -0.613825          10.355080           0.282361   \n",
       "4            0.000000        0.000000           0.000000           0.000000   \n",
       "...               ...             ...                ...                ...   \n",
       "75378       11.460021       -3.868472          11.460021           0.053611   \n",
       "75379        5.928972       -2.841623           5.928972           0.082346   \n",
       "75380        4.975926        0.848333           4.975926           0.848333   \n",
       "75381       10.241948        0.324028          10.241948           0.324028   \n",
       "75382       12.552405       -0.188577          12.552405           0.048913   \n",
       "\n",
       "            qed    MolWt  HeavyAtomMolWt  ExactMolWt  NumValenceElectrons  \\\n",
       "0      0.794714  317.599         306.511  315.982463                100.0   \n",
       "1      0.516641  156.269         136.109  156.151415                 66.0   \n",
       "2      0.251327  362.086         313.702  361.347528                148.0   \n",
       "3      0.487998  255.665         245.585  255.052302                 90.0   \n",
       "4      0.237972  149.894         149.894  149.894242                  8.0   \n",
       "...         ...      ...             ...         ...                  ...   \n",
       "75378  0.712426  230.245         220.165  230.036128                 82.0   \n",
       "75379  0.720533  313.747         296.611  313.041677                104.0   \n",
       "75380  0.596343  167.258         162.218  166.986341                 50.0   \n",
       "75381  0.519485  128.215         112.087  128.120115                 54.0   \n",
       "75382  0.165457  636.962         572.450  636.486609                258.0   \n",
       "\n",
       "       NumRadicalElectrons  ...  fr_sulfone  fr_term_acetylene  fr_tetrazole  \\\n",
       "0                      0.0  ...         0.0                0.0           0.0   \n",
       "1                      0.0  ...         0.0                0.0           0.0   \n",
       "2                      0.0  ...         0.0                0.0           0.0   \n",
       "3                      0.0  ...         0.0                0.0           0.0   \n",
       "4                      0.0  ...         0.0                0.0           0.0   \n",
       "...                    ...  ...         ...                ...           ...   \n",
       "75378                  0.0  ...         0.0                0.0           0.0   \n",
       "75379                  0.0  ...         0.0                0.0           0.0   \n",
       "75380                  0.0  ...         0.0                0.0           0.0   \n",
       "75381                  0.0  ...         0.0                0.0           0.0   \n",
       "75382                  0.0  ...         0.0                0.0           0.0   \n",
       "\n",
       "       fr_thiazole  fr_thiocyan  fr_thiophene  fr_unbrch_alkane  fr_urea  \\\n",
       "0              0.0          0.0           0.0               0.0      0.0   \n",
       "1              0.0          0.0           0.0               4.0      0.0   \n",
       "2              0.0          0.0           0.0              12.0      0.0   \n",
       "3              0.0          0.0           0.0               0.0      0.0   \n",
       "4              0.0          0.0           0.0               0.0      0.0   \n",
       "...            ...          ...           ...               ...      ...   \n",
       "75378          0.0          0.0           0.0               0.0      0.0   \n",
       "75379          0.0          0.0           0.0               0.0      0.0   \n",
       "75380          1.0          0.0           0.0               0.0      0.0   \n",
       "75381          0.0          0.0           0.0               0.0      0.0   \n",
       "75382          0.0          0.0           0.0               5.0      0.0   \n",
       "\n",
       "       label  Assay_values  \n",
       "0          2          1644  \n",
       "1          2          2451  \n",
       "2          2          1384  \n",
       "3          2            16  \n",
       "4          2          1856  \n",
       "...      ...           ...  \n",
       "75378      2            33  \n",
       "75379      1          1632  \n",
       "75380      1          1373  \n",
       "75381      2             2  \n",
       "75382      1             2  \n",
       "\n",
       "[75383 rows x 210 columns]"
      ]
     },
     "execution_count": 3,
     "metadata": {},
     "output_type": "execute_result"
    }
   ],
   "source": [
    "data_train"
   ]
  },
  {
   "cell_type": "code",
   "execution_count": 4,
   "id": "9bdd0943",
   "metadata": {
    "execution": {
     "iopub.execute_input": "2023-04-08T00:21:40.007787Z",
     "iopub.status.busy": "2023-04-08T00:21:40.007340Z",
     "iopub.status.idle": "2023-04-08T00:21:40.095976Z",
     "shell.execute_reply": "2023-04-08T00:21:40.094605Z"
    },
    "papermill": {
     "duration": 0.097511,
     "end_time": "2023-04-08T00:21:40.098778",
     "exception": false,
     "start_time": "2023-04-08T00:21:40.001267",
     "status": "completed"
    },
    "tags": []
   },
   "outputs": [],
   "source": [
    "data_train = data_train.fillna(0)\n",
    "data_test = data_test.fillna(0)"
   ]
  },
  {
   "cell_type": "code",
   "execution_count": 5,
   "id": "d8c0e842",
   "metadata": {
    "execution": {
     "iopub.execute_input": "2023-04-08T00:21:40.110792Z",
     "iopub.status.busy": "2023-04-08T00:21:40.109958Z",
     "iopub.status.idle": "2023-04-08T00:21:40.160482Z",
     "shell.execute_reply": "2023-04-08T00:21:40.158548Z"
    },
    "papermill": {
     "duration": 0.059536,
     "end_time": "2023-04-08T00:21:40.163343",
     "exception": false,
     "start_time": "2023-04-08T00:21:40.103807",
     "status": "completed"
    },
    "tags": []
   },
   "outputs": [],
   "source": [
    "X = data_train.drop(\"label\",axis=1)\n",
    "y = data_train[\"label\"]"
   ]
  },
  {
   "cell_type": "code",
   "execution_count": 6,
   "id": "7bc320b8",
   "metadata": {
    "execution": {
     "iopub.execute_input": "2023-04-08T00:21:40.174626Z",
     "iopub.status.busy": "2023-04-08T00:21:40.174182Z",
     "iopub.status.idle": "2023-04-08T00:21:40.180290Z",
     "shell.execute_reply": "2023-04-08T00:21:40.178855Z"
    },
    "papermill": {
     "duration": 0.014855,
     "end_time": "2023-04-08T00:21:40.182935",
     "exception": false,
     "start_time": "2023-04-08T00:21:40.168080",
     "status": "completed"
    },
    "tags": []
   },
   "outputs": [],
   "source": [
    "clf1 = lgb.LGBMClassifier(random_state=40,n_estimators=2000,learning_rate=0.12)\n",
    "clf4 = xgb.XGBClassifier(random_state=40,n_estimators=1500,eta=0.32)"
   ]
  },
  {
   "cell_type": "code",
   "execution_count": 7,
   "id": "ec1a0384",
   "metadata": {
    "execution": {
     "iopub.execute_input": "2023-04-08T00:21:40.195494Z",
     "iopub.status.busy": "2023-04-08T00:21:40.194641Z",
     "iopub.status.idle": "2023-04-08T00:21:40.200348Z",
     "shell.execute_reply": "2023-04-08T00:21:40.199131Z"
    },
    "papermill": {
     "duration": 0.014743,
     "end_time": "2023-04-08T00:21:40.202807",
     "exception": false,
     "start_time": "2023-04-08T00:21:40.188064",
     "status": "completed"
    },
    "tags": []
   },
   "outputs": [],
   "source": [
    "voting_clf = VotingClassifier(estimators=[('lgm', clf1),  ('xgb', clf4)], voting='soft')"
   ]
  },
  {
   "cell_type": "code",
   "execution_count": 8,
   "id": "1150acf5",
   "metadata": {
    "execution": {
     "iopub.execute_input": "2023-04-08T00:21:40.215302Z",
     "iopub.status.busy": "2023-04-08T00:21:40.214895Z",
     "iopub.status.idle": "2023-04-08T00:47:12.949435Z",
     "shell.execute_reply": "2023-04-08T00:47:12.948107Z"
    },
    "papermill": {
     "duration": 1532.74744,
     "end_time": "2023-04-08T00:47:12.956200",
     "exception": false,
     "start_time": "2023-04-08T00:21:40.208760",
     "status": "completed"
    },
    "tags": []
   },
   "outputs": [
    {
     "data": {
      "text/plain": [
       "VotingClassifier(estimators=[('lgm',\n",
       "                              LGBMClassifier(learning_rate=0.12,\n",
       "                                             n_estimators=2000,\n",
       "                                             random_state=40)),\n",
       "                             ('xgb',\n",
       "                              XGBClassifier(base_score=None, booster=None,\n",
       "                                            callbacks=None,\n",
       "                                            colsample_bylevel=None,\n",
       "                                            colsample_bynode=None,\n",
       "                                            colsample_bytree=None,\n",
       "                                            early_stopping_rounds=None,\n",
       "                                            enable_categorical=False, eta=0.32,\n",
       "                                            eval_metric=None, gamma=None,\n",
       "                                            gpu_id=None, grow_policy=None,\n",
       "                                            importance_type=None,\n",
       "                                            interaction_constraints=None,\n",
       "                                            learning_rate=None, max_bin=None,\n",
       "                                            max_cat_to_onehot=None,\n",
       "                                            max_delta_step=None, max_depth=None,\n",
       "                                            max_leaves=None,\n",
       "                                            min_child_weight=None, missing=nan,\n",
       "                                            monotone_constraints=None,\n",
       "                                            n_estimators=1500, n_jobs=None,\n",
       "                                            num_parallel_tree=None,\n",
       "                                            predictor=None, random_state=40,\n",
       "                                            reg_alpha=None, ...))],\n",
       "                 voting='soft')"
      ]
     },
     "execution_count": 8,
     "metadata": {},
     "output_type": "execute_result"
    }
   ],
   "source": [
    "voting_clf.fit(X,y)"
   ]
  },
  {
   "cell_type": "code",
   "execution_count": 9,
   "id": "ce566ff1",
   "metadata": {
    "execution": {
     "iopub.execute_input": "2023-04-08T00:47:12.967971Z",
     "iopub.status.busy": "2023-04-08T00:47:12.967484Z",
     "iopub.status.idle": "2023-04-08T00:47:14.104212Z",
     "shell.execute_reply": "2023-04-08T00:47:14.102756Z"
    },
    "papermill": {
     "duration": 1.146158,
     "end_time": "2023-04-08T00:47:14.107153",
     "exception": false,
     "start_time": "2023-04-08T00:47:12.960995",
     "status": "completed"
    },
    "tags": []
   },
   "outputs": [],
   "source": [
    "predict = voting_clf.predict(data_test)"
   ]
  },
  {
   "cell_type": "code",
   "execution_count": 10,
   "id": "397ed6df",
   "metadata": {
    "execution": {
     "iopub.execute_input": "2023-04-08T00:47:14.119403Z",
     "iopub.status.busy": "2023-04-08T00:47:14.118967Z",
     "iopub.status.idle": "2023-04-08T00:47:14.125862Z",
     "shell.execute_reply": "2023-04-08T00:47:14.124205Z"
    },
    "papermill": {
     "duration": 0.015911,
     "end_time": "2023-04-08T00:47:14.128371",
     "exception": false,
     "start_time": "2023-04-08T00:47:14.112460",
     "status": "completed"
    },
    "tags": []
   },
   "outputs": [
    {
     "name": "stdout",
     "output_type": "stream",
     "text": [
      "1317\n",
      "9677\n"
     ]
    }
   ],
   "source": [
    "print(np.count_nonzero(predict==1))\n",
    "print(np.count_nonzero(predict==2))"
   ]
  },
  {
   "cell_type": "code",
   "execution_count": 11,
   "id": "72fd4778",
   "metadata": {
    "execution": {
     "iopub.execute_input": "2023-04-08T00:47:14.140371Z",
     "iopub.status.busy": "2023-04-08T00:47:14.139952Z",
     "iopub.status.idle": "2023-04-08T00:47:14.180984Z",
     "shell.execute_reply": "2023-04-08T00:47:14.180008Z"
    },
    "papermill": {
     "duration": 0.050272,
     "end_time": "2023-04-08T00:47:14.183795",
     "exception": false,
     "start_time": "2023-04-08T00:47:14.133523",
     "status": "completed"
    },
    "tags": []
   },
   "outputs": [],
   "source": [
    "submission_file = pd.read_csv(\"/kaggle/input/the-toxicity-prediction-challenge-ii/sample_submission.csv\")\n",
    "submission_file.Predicted = predict"
   ]
  },
  {
   "cell_type": "code",
   "execution_count": 12,
   "id": "964de477",
   "metadata": {
    "execution": {
     "iopub.execute_input": "2023-04-08T00:47:14.196215Z",
     "iopub.status.busy": "2023-04-08T00:47:14.195444Z",
     "iopub.status.idle": "2023-04-08T00:47:14.227078Z",
     "shell.execute_reply": "2023-04-08T00:47:14.226065Z"
    },
    "papermill": {
     "duration": 0.041063,
     "end_time": "2023-04-08T00:47:14.229755",
     "exception": false,
     "start_time": "2023-04-08T00:47:14.188692",
     "status": "completed"
    },
    "tags": []
   },
   "outputs": [],
   "source": [
    "submission_file.to_csv(\"submissions.csv\",index=False)"
   ]
  },
  {
   "cell_type": "code",
   "execution_count": null,
   "id": "bb955874",
   "metadata": {
    "papermill": {
     "duration": 0.004499,
     "end_time": "2023-04-08T00:47:14.239248",
     "exception": false,
     "start_time": "2023-04-08T00:47:14.234749",
     "status": "completed"
    },
    "tags": []
   },
   "outputs": [],
   "source": []
  }
 ],
 "metadata": {
  "kernelspec": {
   "display_name": "Python 3",
   "language": "python",
   "name": "python3"
  },
  "language_info": {
   "codemirror_mode": {
    "name": "ipython",
    "version": 3
   },
   "file_extension": ".py",
   "mimetype": "text/x-python",
   "name": "python",
   "nbconvert_exporter": "python",
   "pygments_lexer": "ipython3",
   "version": "3.7.12"
  },
  "papermill": {
   "default_parameters": {},
   "duration": 1554.185241,
   "end_time": "2023-04-08T00:47:15.171302",
   "environment_variables": {},
   "exception": null,
   "input_path": "__notebook__.ipynb",
   "output_path": "__notebook__.ipynb",
   "parameters": {},
   "start_time": "2023-04-08T00:21:20.986061",
   "version": "2.4.0"
  }
 },
 "nbformat": 4,
 "nbformat_minor": 5
}
