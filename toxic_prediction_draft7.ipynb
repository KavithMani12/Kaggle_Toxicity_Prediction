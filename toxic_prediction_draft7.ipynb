{
 "cells": [
  {
   "cell_type": "code",
   "execution_count": 1,
   "id": "7a95add8",
   "metadata": {},
   "outputs": [],
   "source": [
    "import pandas as pd\n",
    "import numpy as np \n",
    "from rdkit.Chem import AllChem, PandasTools\n",
    "import matplotlib.pyplot as plt\n",
    "\n",
    "from sklearn.preprocessing import LabelEncoder\n",
    "\n",
    "from sklearn.model_selection import train_test_split\n"
   ]
  },
  {
   "cell_type": "code",
   "execution_count": 2,
   "id": "6c0d7baf",
   "metadata": {},
   "outputs": [],
   "source": [
    "train_descriptors = pd.read_csv(\"./train_with_descriptors.csv\")\n",
    "test_descriptors = pd.read_csv(\"./test_with_descriptors.csv\")"
   ]
  },
  {
   "cell_type": "code",
   "execution_count": 3,
   "id": "2d17caa9",
   "metadata": {},
   "outputs": [],
   "source": [
    "le = LabelEncoder()"
   ]
  },
  {
   "cell_type": "code",
   "execution_count": 4,
   "id": "f34ff596",
   "metadata": {},
   "outputs": [],
   "source": [
    "# Replacing null values with mean based on techniques in titanic dataset \n",
    "train_dataset = train_descriptors.fillna(train_descriptors.mean())\n",
    "test_dataset = test_descriptors.fillna(test_descriptors.mean())"
   ]
  },
  {
   "cell_type": "code",
   "execution_count": 5,
   "id": "9c0648ce",
   "metadata": {},
   "outputs": [],
   "source": [
    "# Drop the \"Expected\" column from the DataFrame\n",
    "X = train_dataset.drop(\"Expected\", axis=1)\n",
    "y = train_dataset[\"Expected\"]"
   ]
  },
  {
   "cell_type": "code",
   "execution_count": 6,
   "id": "b352fbeb",
   "metadata": {},
   "outputs": [],
   "source": [
    "y = le.fit_transform(y)"
   ]
  },
  {
   "cell_type": "code",
   "execution_count": 7,
   "id": "c9d03e5b",
   "metadata": {},
   "outputs": [],
   "source": [
    "X_train, X_test, y_train, y_test = train_test_split(X, y, test_size=0.3, random_state=0)"
   ]
  },
  {
   "cell_type": "code",
   "execution_count": 8,
   "id": "14ab12ff",
   "metadata": {},
   "outputs": [],
   "source": [
    "from sklearn.feature_selection import RFE\n",
    "from xgboost import XGBClassifier\n",
    "\n",
    "model =XGBClassifier(n_estimators=500, random_state=12)\n",
    "\n",
    "rfe_method = RFE(\n",
    "    model,\n",
    "    n_features_to_select=50,\n",
    "    step=2,\n",
    ")"
   ]
  },
  {
   "cell_type": "code",
   "execution_count": null,
   "id": "7967c9d8",
   "metadata": {},
   "outputs": [],
   "source": []
  },
  {
   "cell_type": "code",
   "execution_count": 339,
   "id": "2251e2ee",
   "metadata": {},
   "outputs": [],
   "source": [
    "X_train_selected = rfe_method.transform(X_train)\n",
    "X_test_selected = rfe_method.transform(X_test)\n",
    "test_dataset = rfe_method.transform(test_dataset)"
   ]
  },
  {
   "cell_type": "code",
   "execution_count": 194,
   "id": "def044a2",
   "metadata": {},
   "outputs": [
    {
     "data": {
      "text/plain": [
       "XGBClassifier(base_score=None, booster=None, callbacks=None,\n",
       "              colsample_bylevel=None, colsample_bynode=None,\n",
       "              colsample_bytree=None, early_stopping_rounds=None,\n",
       "              enable_categorical=False, eval_metric=None, feature_types=None,\n",
       "              gamma=None, gpu_id=None, grow_policy=None, importance_type=None,\n",
       "              interaction_constraints=None, learning_rate=0.01, max_bin=None,\n",
       "              max_cat_threshold=None, max_cat_to_onehot=None,\n",
       "              max_delta_step=None, max_depth=6, max_leaves=None,\n",
       "              min_child_weight=None, missing=nan, monotone_constraints=None,\n",
       "              n_estimators=1700, n_jobs=None, num_parallel_tree=None,\n",
       "              predictor=None, random_state=50, ...)"
      ]
     },
     "execution_count": 194,
     "metadata": {},
     "output_type": "execute_result"
    }
   ],
   "source": [
    "##from sklearn.ensemble import RandomForestClassifier\n",
    "from xgboost import XGBClassifier\n",
    "\n",
    "clf = XGBClassifier(n_estimators= 1700, max_depth = 6, random_state = 50,learning_rate = 0.01)\n",
    "clf.fit(X_train_selected, y_train)"
   ]
  },
  {
   "cell_type": "code",
   "execution_count": 195,
   "id": "f8b1458a",
   "metadata": {},
   "outputs": [
    {
     "data": {
      "text/plain": [
       "array([2, 2, 2, ..., 2, 2, 2])"
      ]
     },
     "execution_count": 195,
     "metadata": {},
     "output_type": "execute_result"
    }
   ],
   "source": [
    "predict = clf.predict(test_dataset)\n",
    "predict2 = le.inverse_transform(predict)\n",
    "predict2"
   ]
  },
  {
   "cell_type": "code",
   "execution_count": 196,
   "id": "660aa236",
   "metadata": {},
   "outputs": [],
   "source": [
    "predict = clf.predict(X_test_selected)"
   ]
  },
  {
   "cell_type": "code",
   "execution_count": 197,
   "id": "d880b9c0",
   "metadata": {},
   "outputs": [
    {
     "data": {
      "text/plain": [
       "0.7303165948179433"
      ]
     },
     "execution_count": 197,
     "metadata": {},
     "output_type": "execute_result"
    }
   ],
   "source": [
    "from sklearn.metrics import f1_score\n",
    "\n",
    "f1_score(y_test, predict, average= None).mean()"
   ]
  },
  {
   "cell_type": "code",
   "execution_count": 295,
   "id": "587c666c",
   "metadata": {},
   "outputs": [
    {
     "name": "stdout",
     "output_type": "stream",
     "text": [
      "882\n",
      "10112\n"
     ]
    }
   ],
   "source": [
    "print(np.count_nonzero(predict2==1))\n",
    "print(np.count_nonzero(predict2==2))"
   ]
  },
  {
   "cell_type": "code",
   "execution_count": 141,
   "id": "7ddaa50c",
   "metadata": {},
   "outputs": [],
   "source": [
    "# Create submission file \n",
    "submission_file = pd.read_csv(\"./sample_submission.csv\")"
   ]
  },
  {
   "cell_type": "code",
   "execution_count": 142,
   "id": "38128795",
   "metadata": {},
   "outputs": [
    {
     "data": {
      "text/html": [
       "<div>\n",
       "<style scoped>\n",
       "    .dataframe tbody tr th:only-of-type {\n",
       "        vertical-align: middle;\n",
       "    }\n",
       "\n",
       "    .dataframe tbody tr th {\n",
       "        vertical-align: top;\n",
       "    }\n",
       "\n",
       "    .dataframe thead th {\n",
       "        text-align: right;\n",
       "    }\n",
       "</style>\n",
       "<table border=\"1\" class=\"dataframe\">\n",
       "  <thead>\n",
       "    <tr style=\"text-align: right;\">\n",
       "      <th></th>\n",
       "      <th>Id</th>\n",
       "      <th>Predicted</th>\n",
       "    </tr>\n",
       "  </thead>\n",
       "  <tbody>\n",
       "    <tr>\n",
       "      <th>0</th>\n",
       "      <td>CC1=CC(=C(C=C1)C(C)(C)C)O;1682</td>\n",
       "      <td>1</td>\n",
       "    </tr>\n",
       "    <tr>\n",
       "      <th>1</th>\n",
       "      <td>CCS(=O)(=O)C1=C(N=CC=C1)S(=O)(=O)NC(=O)NC2=NC(...</td>\n",
       "      <td>2</td>\n",
       "    </tr>\n",
       "    <tr>\n",
       "      <th>2</th>\n",
       "      <td>CC1=NC2=CC=CC=C2N1C3CC4CCC(C3)N4CCC5(CCN(CC5)C...</td>\n",
       "      <td>1</td>\n",
       "    </tr>\n",
       "    <tr>\n",
       "      <th>3</th>\n",
       "      <td>CC1=CC(=O)[N-]S(=O)(=O)O1.[K+];1850</td>\n",
       "      <td>2</td>\n",
       "    </tr>\n",
       "    <tr>\n",
       "      <th>4</th>\n",
       "      <td>CCC(C)(C)C(=O)O[C@H]1C[C@H](C=C2[C@H]1[C@H]([C...</td>\n",
       "      <td>2</td>\n",
       "    </tr>\n",
       "    <tr>\n",
       "      <th>...</th>\n",
       "      <td>...</td>\n",
       "      <td>...</td>\n",
       "    </tr>\n",
       "    <tr>\n",
       "      <th>10989</th>\n",
       "      <td>CC(=NOCC1=CC=CC=C1C(=NOC)C(=O)OC)C2=CC(=CC=C2)...</td>\n",
       "      <td>1</td>\n",
       "    </tr>\n",
       "    <tr>\n",
       "      <th>10990</th>\n",
       "      <td>C1=CC=C(C(=C1)C(C2=CC=C(C=C2)O)C3=CC=C(C=C3)O)...</td>\n",
       "      <td>2</td>\n",
       "    </tr>\n",
       "    <tr>\n",
       "      <th>10991</th>\n",
       "      <td>CC1=NC(=NC(=N1)OC)NC(=O)NS(=O)(=O)C2=CC=CC=C2C...</td>\n",
       "      <td>1</td>\n",
       "    </tr>\n",
       "    <tr>\n",
       "      <th>10992</th>\n",
       "      <td>COP(=O)(OC)OC=C(Cl)Cl;28</td>\n",
       "      <td>2</td>\n",
       "    </tr>\n",
       "    <tr>\n",
       "      <th>10993</th>\n",
       "      <td>C1=CC=C2C(=C1)C(=O)NS2;1855</td>\n",
       "      <td>2</td>\n",
       "    </tr>\n",
       "  </tbody>\n",
       "</table>\n",
       "<p>10994 rows × 2 columns</p>\n",
       "</div>"
      ],
      "text/plain": [
       "                                                      Id  Predicted\n",
       "0                         CC1=CC(=C(C=C1)C(C)(C)C)O;1682          1\n",
       "1      CCS(=O)(=O)C1=C(N=CC=C1)S(=O)(=O)NC(=O)NC2=NC(...          2\n",
       "2      CC1=NC2=CC=CC=C2N1C3CC4CCC(C3)N4CCC5(CCN(CC5)C...          1\n",
       "3                    CC1=CC(=O)[N-]S(=O)(=O)O1.[K+];1850          2\n",
       "4      CCC(C)(C)C(=O)O[C@H]1C[C@H](C=C2[C@H]1[C@H]([C...          2\n",
       "...                                                  ...        ...\n",
       "10989  CC(=NOCC1=CC=CC=C1C(=NOC)C(=O)OC)C2=CC(=CC=C2)...          1\n",
       "10990  C1=CC=C(C(=C1)C(C2=CC=C(C=C2)O)C3=CC=C(C=C3)O)...          2\n",
       "10991  CC1=NC(=NC(=N1)OC)NC(=O)NS(=O)(=O)C2=CC=CC=C2C...          1\n",
       "10992                           COP(=O)(OC)OC=C(Cl)Cl;28          2\n",
       "10993                        C1=CC=C2C(=C1)C(=O)NS2;1855          2\n",
       "\n",
       "[10994 rows x 2 columns]"
      ]
     },
     "execution_count": 142,
     "metadata": {},
     "output_type": "execute_result"
    }
   ],
   "source": [
    "submission_file"
   ]
  },
  {
   "cell_type": "code",
   "execution_count": 143,
   "id": "9141ad59",
   "metadata": {},
   "outputs": [],
   "source": [
    "submission_file[\"Predicted\"] = predict2\n",
    "submission_file.to_csv(\"rdkit_submission_42.csv\",index=False)"
   ]
  },
  {
   "cell_type": "code",
   "execution_count": null,
   "id": "215d711a",
   "metadata": {},
   "outputs": [],
   "source": []
  },
  {
   "cell_type": "code",
   "execution_count": null,
   "id": "5a937692",
   "metadata": {},
   "outputs": [],
   "source": []
  }
 ],
 "metadata": {
  "kernelspec": {
   "display_name": "Python 3 (ipykernel)",
   "language": "python",
   "name": "python3"
  },
  "language_info": {
   "codemirror_mode": {
    "name": "ipython",
    "version": 3
   },
   "file_extension": ".py",
   "mimetype": "text/x-python",
   "name": "python",
   "nbconvert_exporter": "python",
   "pygments_lexer": "ipython3",
   "version": "3.9.13"
  }
 },
 "nbformat": 4,
 "nbformat_minor": 5
}
