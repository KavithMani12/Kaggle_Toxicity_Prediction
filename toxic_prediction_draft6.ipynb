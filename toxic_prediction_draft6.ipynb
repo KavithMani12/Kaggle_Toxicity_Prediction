{
 "cells": [
  {
   "cell_type": "code",
   "execution_count": 64,
   "id": "7a95add8",
   "metadata": {},
   "outputs": [],
   "source": [
    "import pandas as pd\n",
    "import numpy as np \n",
    "from rdkit.Chem import AllChem, PandasTools\n",
    "import matplotlib.pyplot as plt\n",
    "from sklearn.preprocessing import LabelEncoder\n",
    "\n",
    "from sklearn.model_selection import train_test_split\n"
   ]
  },
  {
   "cell_type": "code",
   "execution_count": 65,
   "id": "6c0d7baf",
   "metadata": {},
   "outputs": [],
   "source": [
    "train_descriptors = pd.read_csv(\"./train_data_descriptors.csv\")\n",
    "test_descriptors = pd.read_csv(\"./test_data_descriptors.csv\")"
   ]
  },
  {
   "cell_type": "code",
   "execution_count": 66,
   "id": "d6ab9c27",
   "metadata": {},
   "outputs": [],
   "source": [
    "le = LabelEncoder()"
   ]
  },
  {
   "cell_type": "code",
   "execution_count": 67,
   "id": "f34ff596",
   "metadata": {},
   "outputs": [],
   "source": [
    "# Replacing null values with mean based on techniques in titanic dataset \n",
    "train_dataset = train_descriptors.fillna(train_descriptors.mean())\n",
    "test_dataset = test_descriptors.fillna(test_descriptors.mean())"
   ]
  },
  {
   "cell_type": "code",
   "execution_count": 68,
   "id": "9c0648ce",
   "metadata": {},
   "outputs": [],
   "source": [
    "# Drop the \"Expected\" column from the DataFrame\n",
    "X = train_dataset.drop(\"label\", axis=1)\n",
    "y = train_dataset[\"label\"]"
   ]
  },
  {
   "cell_type": "code",
   "execution_count": 69,
   "id": "b0b689ee",
   "metadata": {},
   "outputs": [],
   "source": [
    "y = le.fit_transform(y)"
   ]
  },
  {
   "cell_type": "code",
   "execution_count": 70,
   "id": "c9d03e5b",
   "metadata": {},
   "outputs": [],
   "source": [
    "X_train, X_test, y_train, y_test = train_test_split(X, y, test_size = 0.2, random_state = 0)"
   ]
  },
  {
   "cell_type": "code",
   "execution_count": 71,
   "id": "6e2029f1",
   "metadata": {},
   "outputs": [],
   "source": [
    "# performing preprocessing part\n",
    "from sklearn.preprocessing import StandardScaler\n",
    "sc = StandardScaler()\n",
    " \n",
    "X_train = sc.fit_transform(X_train)\n",
    "X_test = sc.transform(X_test)"
   ]
  },
  {
   "cell_type": "code",
   "execution_count": 72,
   "id": "8d6dc7a3",
   "metadata": {},
   "outputs": [
    {
     "name": "stderr",
     "output_type": "stream",
     "text": [
      "/Users/kavithasubramani/opt/anaconda3/lib/python3.9/site-packages/sklearn/base.py:443: UserWarning: X has feature names, but PCA was fitted without feature names\n",
      "  warnings.warn(\n"
     ]
    }
   ],
   "source": [
    "# Applying PCA function on training\n",
    "# and testing set of X component\n",
    "from sklearn.decomposition import PCA\n",
    " \n",
    "pca = PCA(n_components = 50)\n",
    " \n",
    "X_train = pca.fit_transform(X_train)\n",
    "X_test = pca.transform(X_test)\n",
    "test_dataset = pca.transform(test_dataset)\n",
    " \n",
    "explained_variance = pca.explained_variance_ratio_"
   ]
  },
  {
   "cell_type": "code",
   "execution_count": 73,
   "id": "f352ac12",
   "metadata": {},
   "outputs": [
    {
     "data": {
      "text/plain": [
       "XGBClassifier(base_score=None, booster=None, callbacks=None,\n",
       "              colsample_bylevel=None, colsample_bynode=None,\n",
       "              colsample_bytree=None, early_stopping_rounds=None,\n",
       "              enable_categorical=False, eval_metric=None, feature_types=None,\n",
       "              gamma=None, gpu_id=None, grow_policy=None, importance_type=None,\n",
       "              interaction_constraints=None, learning_rate=0.1, max_bin=None,\n",
       "              max_cat_threshold=None, max_cat_to_onehot=None,\n",
       "              max_delta_step=None, max_depth=None, max_leaves=None,\n",
       "              min_child_weight=None, missing=nan, monotone_constraints=None,\n",
       "              n_estimators=3570, n_jobs=None, num_parallel_tree=None,\n",
       "              predictor=None, random_state=None, ...)"
      ]
     },
     "execution_count": 73,
     "metadata": {},
     "output_type": "execute_result"
    }
   ],
   "source": [
    "# build the XGBoost model\n",
    "from xgboost import XGBClassifier\n",
    "\n",
    "clf = XGBClassifier(n_estimators=3570,learning_rate = 0.1)\n",
    "clf.fit(X_train, y_train)"
   ]
  },
  {
   "cell_type": "code",
   "execution_count": 74,
   "id": "4ec88776",
   "metadata": {},
   "outputs": [],
   "source": [
    "# predict the results\n",
    "predict=clf.predict(test_dataset)"
   ]
  },
  {
   "cell_type": "code",
   "execution_count": 75,
   "id": "ee8687c3",
   "metadata": {},
   "outputs": [],
   "source": [
    "predict2 = clf.predict(X_test)"
   ]
  },
  {
   "cell_type": "code",
   "execution_count": 76,
   "id": "52e240cc",
   "metadata": {},
   "outputs": [
    {
     "data": {
      "text/plain": [
       "0.637776286575869"
      ]
     },
     "execution_count": 76,
     "metadata": {},
     "output_type": "execute_result"
    }
   ],
   "source": [
    "from sklearn.metrics import f1_score\n",
    "\n",
    "f1_score(y_test, predict2, average= None).mean()"
   ]
  },
  {
   "cell_type": "code",
   "execution_count": 77,
   "id": "a5ce31cc",
   "metadata": {},
   "outputs": [
    {
     "data": {
      "text/plain": [
       "array([2, 1, 1, ..., 1, 2, 2])"
      ]
     },
     "execution_count": 77,
     "metadata": {},
     "output_type": "execute_result"
    }
   ],
   "source": [
    "predict3 = le.inverse_transform(predict)\n",
    "predict3"
   ]
  },
  {
   "cell_type": "code",
   "execution_count": 78,
   "id": "b075012b",
   "metadata": {},
   "outputs": [
    {
     "name": "stdout",
     "output_type": "stream",
     "text": [
      "7090\n",
      "3904\n"
     ]
    }
   ],
   "source": [
    "print(np.count_nonzero(predict3==1))\n",
    "print(np.count_nonzero(predict3==2))"
   ]
  },
  {
   "cell_type": "code",
   "execution_count": 19,
   "id": "7ddaa50c",
   "metadata": {},
   "outputs": [],
   "source": [
    "# Create submission file \n",
    "submission_file = pd.read_csv(\"./sample_submission.csv\")"
   ]
  },
  {
   "cell_type": "code",
   "execution_count": 20,
   "id": "38128795",
   "metadata": {},
   "outputs": [
    {
     "data": {
      "text/html": [
       "<div>\n",
       "<style scoped>\n",
       "    .dataframe tbody tr th:only-of-type {\n",
       "        vertical-align: middle;\n",
       "    }\n",
       "\n",
       "    .dataframe tbody tr th {\n",
       "        vertical-align: top;\n",
       "    }\n",
       "\n",
       "    .dataframe thead th {\n",
       "        text-align: right;\n",
       "    }\n",
       "</style>\n",
       "<table border=\"1\" class=\"dataframe\">\n",
       "  <thead>\n",
       "    <tr style=\"text-align: right;\">\n",
       "      <th></th>\n",
       "      <th>Id</th>\n",
       "      <th>Predicted</th>\n",
       "    </tr>\n",
       "  </thead>\n",
       "  <tbody>\n",
       "    <tr>\n",
       "      <th>0</th>\n",
       "      <td>CC1=CC(=C(C=C1)C(C)(C)C)O;1682</td>\n",
       "      <td>1</td>\n",
       "    </tr>\n",
       "    <tr>\n",
       "      <th>1</th>\n",
       "      <td>CCS(=O)(=O)C1=C(N=CC=C1)S(=O)(=O)NC(=O)NC2=NC(...</td>\n",
       "      <td>2</td>\n",
       "    </tr>\n",
       "    <tr>\n",
       "      <th>2</th>\n",
       "      <td>CC1=NC2=CC=CC=C2N1C3CC4CCC(C3)N4CCC5(CCN(CC5)C...</td>\n",
       "      <td>1</td>\n",
       "    </tr>\n",
       "    <tr>\n",
       "      <th>3</th>\n",
       "      <td>CC1=CC(=O)[N-]S(=O)(=O)O1.[K+];1850</td>\n",
       "      <td>2</td>\n",
       "    </tr>\n",
       "    <tr>\n",
       "      <th>4</th>\n",
       "      <td>CCC(C)(C)C(=O)O[C@H]1C[C@H](C=C2[C@H]1[C@H]([C...</td>\n",
       "      <td>2</td>\n",
       "    </tr>\n",
       "    <tr>\n",
       "      <th>...</th>\n",
       "      <td>...</td>\n",
       "      <td>...</td>\n",
       "    </tr>\n",
       "    <tr>\n",
       "      <th>10989</th>\n",
       "      <td>CC(=NOCC1=CC=CC=C1C(=NOC)C(=O)OC)C2=CC(=CC=C2)...</td>\n",
       "      <td>1</td>\n",
       "    </tr>\n",
       "    <tr>\n",
       "      <th>10990</th>\n",
       "      <td>C1=CC=C(C(=C1)C(C2=CC=C(C=C2)O)C3=CC=C(C=C3)O)...</td>\n",
       "      <td>2</td>\n",
       "    </tr>\n",
       "    <tr>\n",
       "      <th>10991</th>\n",
       "      <td>CC1=NC(=NC(=N1)OC)NC(=O)NS(=O)(=O)C2=CC=CC=C2C...</td>\n",
       "      <td>1</td>\n",
       "    </tr>\n",
       "    <tr>\n",
       "      <th>10992</th>\n",
       "      <td>COP(=O)(OC)OC=C(Cl)Cl;28</td>\n",
       "      <td>2</td>\n",
       "    </tr>\n",
       "    <tr>\n",
       "      <th>10993</th>\n",
       "      <td>C1=CC=C2C(=C1)C(=O)NS2;1855</td>\n",
       "      <td>2</td>\n",
       "    </tr>\n",
       "  </tbody>\n",
       "</table>\n",
       "<p>10994 rows × 2 columns</p>\n",
       "</div>"
      ],
      "text/plain": [
       "                                                      Id  Predicted\n",
       "0                         CC1=CC(=C(C=C1)C(C)(C)C)O;1682          1\n",
       "1      CCS(=O)(=O)C1=C(N=CC=C1)S(=O)(=O)NC(=O)NC2=NC(...          2\n",
       "2      CC1=NC2=CC=CC=C2N1C3CC4CCC(C3)N4CCC5(CCN(CC5)C...          1\n",
       "3                    CC1=CC(=O)[N-]S(=O)(=O)O1.[K+];1850          2\n",
       "4      CCC(C)(C)C(=O)O[C@H]1C[C@H](C=C2[C@H]1[C@H]([C...          2\n",
       "...                                                  ...        ...\n",
       "10989  CC(=NOCC1=CC=CC=C1C(=NOC)C(=O)OC)C2=CC(=CC=C2)...          1\n",
       "10990  C1=CC=C(C(=C1)C(C2=CC=C(C=C2)O)C3=CC=C(C=C3)O)...          2\n",
       "10991  CC1=NC(=NC(=N1)OC)NC(=O)NS(=O)(=O)C2=CC=CC=C2C...          1\n",
       "10992                           COP(=O)(OC)OC=C(Cl)Cl;28          2\n",
       "10993                        C1=CC=C2C(=C1)C(=O)NS2;1855          2\n",
       "\n",
       "[10994 rows x 2 columns]"
      ]
     },
     "execution_count": 20,
     "metadata": {},
     "output_type": "execute_result"
    }
   ],
   "source": [
    "submission_file"
   ]
  },
  {
   "cell_type": "code",
   "execution_count": 21,
   "id": "9141ad59",
   "metadata": {},
   "outputs": [],
   "source": [
    "submission_file[\"Predicted\"] = predict3\n",
    "submission_file.to_csv(\"rdkit_submission_44.csv\",index=False)"
   ]
  },
  {
   "cell_type": "code",
   "execution_count": null,
   "id": "215d711a",
   "metadata": {},
   "outputs": [],
   "source": []
  },
  {
   "cell_type": "code",
   "execution_count": null,
   "id": "5a937692",
   "metadata": {},
   "outputs": [],
   "source": []
  }
 ],
 "metadata": {
  "kernelspec": {
   "display_name": "Python 3 (ipykernel)",
   "language": "python",
   "name": "python3"
  },
  "language_info": {
   "codemirror_mode": {
    "name": "ipython",
    "version": 3
   },
   "file_extension": ".py",
   "mimetype": "text/x-python",
   "name": "python",
   "nbconvert_exporter": "python",
   "pygments_lexer": "ipython3",
   "version": "3.9.13"
  }
 },
 "nbformat": 4,
 "nbformat_minor": 5
}
